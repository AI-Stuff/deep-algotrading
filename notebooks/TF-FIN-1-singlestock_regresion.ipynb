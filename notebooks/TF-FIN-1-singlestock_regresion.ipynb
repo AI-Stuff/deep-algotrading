{
 "cells": [
  {
   "cell_type": "code",
   "execution_count": 4,
   "metadata": {},
   "outputs": [
    {
     "name": "stdout",
     "output_type": "stream",
     "text": [
      "Populating the interactive namespace from numpy and matplotlib\n"
     ]
    }
   ],
   "source": [
    "%pylab inline\n",
    "import matplotlib.pyplot as plt\n",
    "import tensorflow as tf\n",
    "import numpy as np\n",
    "import numpy.random as rng\n",
    "import pandas_datareader.data as web\n",
    "import numpy as np\n",
    "import pandas as pd"
   ]
  },
  {
   "cell_type": "code",
   "execution_count": 16,
   "metadata": {
    "collapsed": true
   },
   "outputs": [],
   "source": [
    "def get_prices(symbol):\n",
    "    start, end = '2007-05-02', '2016-04-11'\n",
    "    data = web.DataReader(symbol, 'google', start, end)\n",
    "    data=pd.DataFrame(data)\n",
    "    prices=data['Close']\n",
    "    #prices=np.asarray(list(prices))\n",
    "    prices=prices.astype(float)\n",
    "    return prices\n",
    "\n",
    "def get_returns(prices):\n",
    "    return (prices-prices.shift(-1))/prices\n",
    "\n",
    "def sort_data(rets):\n",
    "    ins = []\n",
    "    outs = []\n",
    "    for i in range(len(rets)-100):\n",
    "        ins.append(rets[i:i+100].tolist())\n",
    "        outs.append(rets[i+100])\n",
    "    return np.array(ins), np.array(outs)"
   ]
  },
  {
   "cell_type": "code",
   "execution_count": 17,
   "metadata": {},
   "outputs": [],
   "source": [
    "# separate data into inputs and outputs for training and testing\n",
    "gs = get_prices('GS')\n",
    "rets = get_returns(gs)\n",
    "ins, outs = sort_data(rets)\n",
    "div = int(.8 * ins.shape[0])\n",
    "train_ins, train_outs = ins[:div], outs[:div]\n",
    "test_ins, test_outs = ins[div:], outs[div:]"
   ]
  },
  {
   "cell_type": "code",
   "execution_count": 31,
   "metadata": {},
   "outputs": [
    {
     "name": "stdout",
     "output_type": "stream",
     "text": [
      "[[-0.00943095 -0.02608774  0.00052784 ...,  0.00958637 -0.03169066\n",
      "  -0.00214306]\n",
      " [-0.02608774  0.00052784  0.00999032 ..., -0.03169066 -0.00214306\n",
      "  -0.00223352]\n",
      " [ 0.00052784  0.00999032 -0.0072016  ..., -0.00214306 -0.00223352\n",
      "  -0.01759128]\n",
      " ..., \n",
      " [-0.00646995  0.01027336 -0.02421998 ..., -0.00781709 -0.00145798\n",
      "  -0.01921733]\n",
      " [ 0.01027336 -0.02421998 -0.01878741 ..., -0.00145798 -0.01921733\n",
      "  -0.01028454]\n",
      " [-0.02421998 -0.01878741 -0.00407213 ..., -0.01921733 -0.01028454\n",
      "   0.00316706]]\n"
     ]
    }
   ],
   "source": [
    "print(test_ins)"
   ]
  },
  {
   "cell_type": "code",
   "execution_count": 18,
   "metadata": {
    "collapsed": true
   },
   "outputs": [],
   "source": [
    "sess = tf.InteractiveSession()"
   ]
  },
  {
   "cell_type": "code",
   "execution_count": 25,
   "metadata": {
    "collapsed": true
   },
   "outputs": [],
   "source": [
    "# we define two placeholders for our input and output\n",
    "x = tf.placeholder(tf.float32, [None, 100])\n",
    "y_ = tf.placeholder(tf.float32, [None, 1])\n",
    "\n",
    "# we define trainable variables for our model\n",
    "W = tf.Variable(tf.random_normal([100, 1]))\n",
    "b = tf.Variable(tf.random_normal([1]))\n",
    "\n",
    "# we define our model: y = W*x + b\n",
    "y = tf.matmul(x, W) + b\n",
    "\n",
    "#MSE:\n",
    "cost = tf.reduce_sum(tf.pow(y-y_, 2))/(2*1000)\n",
    "optimizer = tf.train.GradientDescentOptimizer(0.5).minimize(cost)"
   ]
  },
  {
   "cell_type": "code",
   "execution_count": 27,
   "metadata": {},
   "outputs": [
    {
     "name": "stdout",
     "output_type": "stream",
     "text": [
      "Epoch: 1000 cost= 0.014585411\n",
      "Epoch: 2000 cost= 0.004562563\n",
      "Epoch: 3000 cost= 0.001888341\n",
      "Epoch: 4000 cost= 0.001065421\n",
      "Epoch: 5000 cost= 0.000789276\n",
      "Epoch: 6000 cost= 0.000691074\n",
      "Epoch: 7000 cost= 0.000654672\n",
      "Epoch: 8000 cost= 0.000640742\n",
      "Epoch: 9000 cost= 0.000635271\n",
      "Epoch: 10000 cost= 0.000633075\n",
      "Epoch: 11000 cost= 0.000632177\n",
      "Epoch: 12000 cost= 0.000631803\n",
      "Epoch: 13000 cost= 0.000631645\n",
      "Epoch: 14000 cost= 0.000631578\n",
      "Epoch: 15000 cost= 0.000631548\n",
      "Epoch: 16000 cost= 0.000631535\n",
      "Epoch: 17000 cost= 0.000631530\n",
      "Epoch: 18000 cost= 0.000631527\n",
      "Epoch: 19000 cost= 0.000631526\n",
      "Epoch: 20000 cost= 0.000631526\n"
     ]
    }
   ],
   "source": [
    "# initialize variables to random values\n",
    "init = tf.global_variables_initializer()\n",
    "sess.run(init)\n",
    "# run optimizer on entire training data set many times\n",
    "for epoch in range(20000):\n",
    "    sess.run(optimizer, feed_dict={x: train_ins, y_: train_outs.reshape(1,-1).T})\n",
    "    # every 1000 iterations record progress\n",
    "    if (epoch+1)%1000== 0:\n",
    "        c = sess.run(cost, feed_dict={x: train_ins, y_: train_outs.reshape(1,-1).T})\n",
    "        print(\"Epoch:\", '%04d' % (epoch+1), \"cost=\", \"{:.9f}\".format(c))"
   ]
  },
  {
   "cell_type": "code",
   "execution_count": 28,
   "metadata": {},
   "outputs": [
    {
     "name": "stdout",
     "output_type": "stream",
     "text": [
      "Tensor(\"add_1:0\", shape=(?, 1), dtype=float32)\n"
     ]
    }
   ],
   "source": [
    "#train results :)\n",
    "predict = y\n",
    "print(predict)\n",
    "# p = sess.run(predict, feed_dict={x: train_ins})\n",
    "# position = 2*((p>0)-.5)\n",
    "# returns= position.reshape(-1) * train_outs\n",
    "# plot(np.cumprod(returns+1))"
   ]
  },
  {
   "cell_type": "code",
   "execution_count": 62,
   "metadata": {},
   "outputs": [
    {
     "data": {
      "text/plain": [
       "[<matplotlib.lines.Line2D at 0x1123ae860>]"
      ]
     },
     "execution_count": 62,
     "metadata": {},
     "output_type": "execute_result"
    },
    {
     "data": {
      "image/png": "[encoded data removed]",
      "text/plain": [
       "<matplotlib.figure.Figure at 0x1121dc550>"
      ]
     },
     "metadata": {},
     "output_type": "display_data"
    }
   ],
   "source": [
    "#test results :(\n",
    "predict = y\n",
    "p = sess.run(predict, feed_dict={x: test_ins})\n",
    "position = 2*((p>0)-.5)\n",
    "returns= position.reshape(-1) * test_outs\n",
    "plot(np.cumprod(returns+1))"
   ]
  }
 ],
 "metadata": {
  "kernelspec": {
   "display_name": "Python 3",
   "language": "python",
   "name": "python3"
  },
  "language_info": {
   "codemirror_mode": {
    "name": "ipython",
    "version": 3
   },
   "file_extension": ".py",
   "mimetype": "text/x-python",
   "name": "python",
   "nbconvert_exporter": "python",
   "pygments_lexer": "ipython3",
   "version": "3.6.0"
  }
 },
 "nbformat": 4,
 "nbformat_minor": 1
}
