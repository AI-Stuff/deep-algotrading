{
 "cells": [
  {
   "cell_type": "code",
   "execution_count": 2,
   "metadata": {
    "collapsed": false
   },
   "outputs": [
    {
     "name": "stdout",
     "output_type": "stream",
     "text": [
      "Populating the interactive namespace from numpy and matplotlib\n"
     ]
    }
   ],
   "source": [
    "%pylab inline\n",
    "import matplotlib.pyplot as plt\n",
    "import tensorflow as tf\n",
    "import numpy as np\n",
    "import numpy.random as rng\n",
    "import pandas.io.data as web\n",
    "import numpy as np\n",
    "import pandas as pd"
   ]
  },
  {
   "cell_type": "code",
   "execution_count": null,
   "metadata": {
    "collapsed": false
   },
   "outputs": [],
   "source": []
  },
  {
   "cell_type": "code",
   "execution_count": 3,
   "metadata": {
    "collapsed": false
   },
   "outputs": [],
   "source": [
    "# we modify this data organizing slightly to get two symbols\n",
    "def get_prices(symbol):\n",
    "    start, end = '2007-05-02', '2016-04-11'\n",
    "    data = web.DataReader(symbol, 'yahoo', start, end)\n",
    "    data=pd.DataFrame(data)\n",
    "    prices=data['Adj Close']\n",
    "    prices=prices.astype(float)\n",
    "    return prices\n",
    "\n",
    "def get_returns(prices):\n",
    "        return ((prices-prices.shift(-1))/prices)[:-1]\n",
    "    \n",
    "def get_data(list):\n",
    "    l = []\n",
    "    for symbol in list:\n",
    "        rets = get_returns(get_prices(symbol))\n",
    "        l.append(rets)\n",
    "    return np.array(l).T\n",
    "\n",
    "def sort_data(rets):\n",
    "    ins = []\n",
    "    outs = []\n",
    "    for i in range(len(rets)-100):\n",
    "        ins.append(rets[i:i+100].tolist())\n",
    "        outs.append(rets[i+100])\n",
    "    return np.array(ins), np.array(outs)\n",
    "        \n"
   ]
  },
  {
   "cell_type": "code",
   "execution_count": 4,
   "metadata": {
    "collapsed": true
   },
   "outputs": [],
   "source": [
    "symbol_list = ['C', 'GS']\n",
    "rets = get_data(symbol_list)\n",
    "ins, outs = sort_data(rets)\n",
    "ins = ins.transpose([0,2,1]).reshape([-1, len(symbol_list) * 100])\n",
    "div = int(.8 * ins.shape[0])\n",
    "train_ins, train_outs = ins[:div], outs[:div]\n",
    "test_ins, test_outs = ins[div:], outs[div:]\n",
    "\n",
    "#normalize inputs\n",
    "train_ins, test_ins = train_ins/np.std(ins), test_ins/np.std(ins)"
   ]
  },
  {
   "cell_type": "code",
   "execution_count": 5,
   "metadata": {
    "collapsed": true
   },
   "outputs": [],
   "source": [
    "sess = tf.InteractiveSession()"
   ]
  },
  {
   "cell_type": "code",
   "execution_count": 73,
   "metadata": {
    "collapsed": false
   },
   "outputs": [],
   "source": [
    "positions = tf.constant([-1,0,1]) #long, neutral or short\n",
    "num_positions = 3\n",
    "\n",
    "# define placeholders \n",
    "x = tf.placeholder(tf.float32, [None, len(symbol_list) * 100])\n",
    "y_ = tf.placeholder(tf.float32, [None,  len(symbol_list)])\n",
    "\n",
    "# define trainable variables\n",
    "W = tf.Variable(tf.random_normal([len(symbol_list) * 100, num_positions * len(symbol_list)]))\n",
    "b = tf.Variable(tf.random_normal([num_positions * len(symbol_list)]))\n",
    "\n",
    "# we define our model: y = W*x + b\n",
    "y = tf.matmul(x, W) + b # y is tensor of shape [num_inputs, num_positions * len(symbol_list)]\n",
    "# a row of y will look like [prob_symbol_1_short, prob_symbol_1_neutral, prob_symbol_1_long, prob_symbol_2_short, ...]\n",
    "# note that they are not really probabilities because I did not perform a softmax yet\n",
    "\n",
    "\n",
    "# loop through symbol, taking the columns for each symbol's bucket together\n",
    "pos = {}\n",
    "symbol_returns = {}\n",
    "relevant_target_column = {}\n",
    "for i in range(len(symbol_list)):\n",
    "    # isolate the buckets relevant to the symbol and get a softmax as well\n",
    "    symbol_probs = y[:,i*num_positions:(i+1)*num_positions]\n",
    "    symbol_probs_softmax = tf.nn.softmax(symbol_probs) # softmax[i, j] = exp(logits[i, j]) / sum(exp(logits[i]))\n",
    "    # sample probability to chose our policy's action\n",
    "    sample = tf.multinomial(tf.log(symbol_probs_softmax), 1)#sample = tf.argmax(symbol_probs_softmax, 1) #use a real sample\n",
    "    pos[i] = tf.reshape(sample, [-1]) - 1   # choose(-1,0,1)\n",
    "    # get returns by multiplying the policy (position taken) by the target return for that day\n",
    "    symbol_returns[i] = tf.mul(tf.cast(pos[i], float32),  y_[:,i])\n",
    "    # isolate the probability of the selected policy (for use in calculating gradient)\n",
    "    sample_mask = tf.reshape(tf.one_hot(sample, 3), [-1,3])\n",
    "    relevant_target_column[i] = tf.reduce_sum(symbol_probs * sample_mask,1) # should be relevant to SAMPLE\n",
    "    \n",
    "# calculate the performance metrics for the data chosen\n",
    "daily_returns_by_symbol = tf.concat(1, [tf.reshape(t, [-1,1]) for t in symbol_returns.values()])\n",
    "daily_returns = tf.reduce_sum(daily_returns_by_symbol,1)/2\n",
    "total_return = tf.reduce_prod(daily_returns + 1)\n",
    "ann_vol = tf.mul(\n",
    "    tf.sqrt(tf.reduce_mean(tf.pow((daily_returns - tf.reduce_mean(daily_returns)),2))) ,\n",
    "    np.sqrt(252)\n",
    "    )\n",
    "sharpe = total_return / ann_vol\n",
    "\n",
    "# since we only train the sampled classes, we will combine them so that we can feed them into cross entropy\n",
    "training_target_cols = tf.concat(1, [tf.reshape(t, [-1,1]) for t in relevant_target_column.values()])\n",
    "# we want to either push the gradient toward our selection or away from it. We use these ones to find the direction\n",
    "#     of the gradient, which we will then multiply by our fitness function\n",
    "ones = tf.ones_like(training_target_cols)\n",
    "\n",
    "# this isnt actuall a gradient, but karpathy sort of calls it one. Since it is a tensor it sort of is a gradient anyway\n",
    "gradient = tf.nn.sigmoid_cross_entropy_with_logits(training_target_cols, ones)\n",
    "\n",
    "# how should we do this step? it depends how we want to group our results. Choose your own adventure here by uncommenting a cost fn\n",
    "# this is the most obvious: we push each weight to what works or not. Try it out...we're gonna be RICH!!!! oh, wait...\n",
    "#cost = tf.mul(gradient , daily_returns_by_symbol)\n",
    "# this takes the overall daily return and pushes the weights so that the overall day wins. Again, it overfits enormously\n",
    "#cost = tf.mul(gradient , tf.reshape(daily_returns,[-1,1]))\n",
    "# this multiplies every gradient by the overall return. If the strategy won for the past ten years, we do more of it and vice versa\n",
    "cost = tf.mul(gradient , total_return)\n",
    "costfn = tf.reduce_mean(cost)\n",
    "\n",
    "# minimize the cost (push the weights where we want them to go)\n",
    "optimizer = tf.train.GradientDescentOptimizer(0.05).minimize(cost)"
   ]
  },
  {
   "cell_type": "code",
   "execution_count": null,
   "metadata": {
    "collapsed": false,
    "scrolled": true
   },
   "outputs": [
    {
     "name": "stdout",
     "output_type": "stream",
     "text": [
      "Epoch: 1000 cost= 0.000757078 total return= -0.764871001\n",
      "Epoch: 2000 cost= 0.000553781 total return= -0.666625172\n",
      "Epoch: 3000 cost= 0.000403876 total return= -0.737532526\n",
      "Epoch: 4000 cost= 0.000296216 total return= -0.687883317\n",
      "Epoch: 5000 cost= 0.000158201 total return= -0.722861439\n",
      "Epoch: 6000 cost= 0.000205062 total return= -0.700383008\n",
      "Epoch: 7000 cost= 0.000224993 total return= -0.569015145\n",
      "Epoch: 8000 cost= 0.000129422 total return= -0.727016926\n",
      "Epoch: 9000 cost= 0.000153437 total return= -0.664679348\n",
      "Epoch: 10000 cost= 0.000199938 total return= -0.422338426\n",
      "Epoch: 11000 cost= 0.000106988 total return= -0.730111361\n",
      "Epoch: 12000 cost= 0.000086470 total return= -0.716414809\n",
      "Epoch: 13000 cost= 0.000072907 total return= -0.711577833\n",
      "Epoch: 14000 cost= 0.000089197 total return= -0.766742393\n",
      "Epoch: 15000 cost= 0.000073194 total return= -0.671206892\n",
      "Epoch: 16000 cost= 0.000063475 total return= -0.753039822\n",
      "Epoch: 17000 cost= 0.000083137 total return= -0.570011288\n",
      "Epoch:"
     ]
    }
   ],
   "source": [
    "# initialize variables to random values\n",
    "init = tf.initialize_all_variables()\n",
    "sess.run(init)\n",
    "# run optimizer on entire training data set many times\n",
    "train_size = train_ins.shape[0]\n",
    "for epoch in range(20000):\n",
    "    start = rng.randint(train_size-50)\n",
    "    batch_size = rng.randint(2,20)\n",
    "    end = min(train_size, start+batch_size)\n",
    "    \n",
    "    sess.run(optimizer, feed_dict={x: train_ins[start:end], y_: train_outs[start:end]})#.reshape(1,-1).T})\n",
    "    # every 1000 iterations record progress\n",
    "    if (epoch+1)%1000== 0:\n",
    "        c,t = sess.run([costfn, total_return], feed_dict={x: train_ins, y_: train_outs})#.reshape(1,-1).T})\n",
    "        print(\"Epoch:\", '%04d' % (epoch+1), \"cost=\", \"{:.9f}\".format(c), \"total return=\", \"{:.9f}\".format(t-1))"
   ]
  },
  {
   "cell_type": "code",
   "execution_count": 75,
   "metadata": {
    "collapsed": false
   },
   "outputs": [],
   "source": [
    "# in sample results\n",
    "d, t = sess.run([daily_returns, gradient], feed_dict={x: train_ins, y_: train_outs})"
   ]
  },
  {
   "cell_type": "code",
   "execution_count": 76,
   "metadata": {
    "collapsed": false
   },
   "outputs": [
    {
     "data": {
      "text/plain": [
       "[<matplotlib.lines.Line2D at 0x1137b69e8>]"
      ]
     },
     "execution_count": 76,
     "metadata": {},
     "output_type": "execute_result"
    },
    {
     "data": {
      "image/png": "[encoded data removed]",
      "text/plain": [
       "<matplotlib.figure.Figure at 0x110c893c8>"
      ]
     },
     "metadata": {},
     "output_type": "display_data"
    }
   ],
   "source": [
    "# equity curve\n",
    "plot(np.cumprod(d+1))"
   ]
  },
  {
   "cell_type": "code",
   "execution_count": 77,
   "metadata": {
    "collapsed": false
   },
   "outputs": [],
   "source": [
    "#out of sample results\n",
    "d, t = sess.run([daily_returns, gradient], feed_dict={x: test_ins, y_: test_outs})"
   ]
  },
  {
   "cell_type": "code",
   "execution_count": 78,
   "metadata": {
    "collapsed": false
   },
   "outputs": [
    {
     "data": {
      "text/plain": [
       "[<matplotlib.lines.Line2D at 0x1137e5710>]"
      ]
     },
     "execution_count": 78,
     "metadata": {},
     "output_type": "execute_result"
    },
    {
     "data": {
      "image/png": "[encoded data removed]",
      "text/plain": [
       "<matplotlib.figure.Figure at 0x112c7fc18>"
      ]
     },
     "metadata": {},
     "output_type": "display_data"
    }
   ],
   "source": [
    "#out of sample results\n",
    "plot(np.cumprod(d+1))"
   ]
  },
  {
   "cell_type": "code",
   "execution_count": null,
   "metadata": {
    "collapsed": true
   },
   "outputs": [],
   "source": []
  }
 ],
 "metadata": {
  "kernelspec": {
   "display_name": "Python 3",
   "language": "python",
   "name": "python3"
  },
  "language_info": {
   "codemirror_mode": {
    "name": "ipython",
    "version": 3
   },
   "file_extension": ".py",
   "mimetype": "text/x-python",
   "name": "python",
   "nbconvert_exporter": "python",
   "pygments_lexer": "ipython3",
   "version": "3.4.4"
  }
 },
 "nbformat": 4,
 "nbformat_minor": 0
}
